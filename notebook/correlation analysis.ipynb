{
 "metadata": {
  "language_info": {
   "codemirror_mode": {
    "name": "ipython",
    "version": 3
   },
   "file_extension": ".py",
   "mimetype": "text/x-python",
   "name": "python",
   "nbconvert_exporter": "python",
   "pygments_lexer": "ipython3",
   "version": "3.8.5-final"
  },
  "orig_nbformat": 2,
  "kernelspec": {
   "name": "python3",
   "display_name": "Python 3",
   "language": "python"
  }
 },
 "nbformat": 4,
 "nbformat_minor": 2,
 "cells": [
  {
   "cell_type": "code",
   "execution_count": 22,
   "metadata": {},
   "outputs": [],
   "source": [
    "import pandas as pd \n",
    "import numpy as np \n",
    "import matplotlib.pyplot as plt \n",
    "import statsmodels.api as sm"
   ]
  },
  {
   "cell_type": "code",
   "execution_count": 119,
   "metadata": {},
   "outputs": [],
   "source": [
    "import os, sys\n",
    "data_dir = '../data/'\n",
    "data = pd.read_csv(data_dir +'dataset.csv')"
   ]
  },
  {
   "cell_type": "code",
   "execution_count": 120,
   "metadata": {},
   "outputs": [],
   "source": [
    "data[\"click_through_rates\"] == data['click-through-event']/data['first_dropped']"
   ]
  },
  {
   "source": [
    "## Correlation \n",
    "According to wikipedia correlation or dependence is any statistical relationship, whether causal or not, between two random variables or bivariate data. \n",
    "when we say two variables are correlated linear it means, an increase in one of them affects the other variable. For the variables in our dataset we have ordinal categorical variables and continuous numerical variables, this kind of data relationship requires a ANOVA test to identify if there are difference increase or decrease among the variables, anova test helps us confirm if the mean of the different categories in our data has a significant difference or it is mostly noise, in this analysis we cannot clearly identify which variable is responsible for this. \n",
    "\n",
    "In this analysis we are trying to identify if the time of our campaign which is called season and the region has any influence in the click_through_rate which is defined as  \n",
    "\n",
    "click_through_rates = click-through-event/first_dropped\n",
    "\n",
    "we would also try to identify which is a better predictor of our click_through_rates among the previously selected variables which we called season and region.\n",
    "\n",
    "Firstly we would do a one-way ANOVA test to identify for each of the variables we choose, then we would do a two-way ANOVA test to identify if both independent variables have  significant effect on the dependent variable click_through_rate, we would do the three different type of tests and explain our results. "
   ],
   "cell_type": "markdown",
   "metadata": {}
  },
  {
   "cell_type": "code",
   "execution_count": null,
   "metadata": {},
   "outputs": [],
   "source": []
  },
  {
   "source": [
    "I would be trying to understand and confirm is there is a correlation the values of three columns with the result i get from derived quantity \"click_through_rates\" which is calculated thus. \n",
    "\n",
    "\n",
    "I would be using different method to test for correlation and to confirm if vertical, season or region in any way influences the click through rates of our ads. \n",
    "\n",
    "for [\"vertical\", \"season\", and \"region\"] and the derived quantity \"click_through_rates\""
   ],
   "cell_type": "markdown",
   "metadata": {}
  },
  {
   "cell_type": "code",
   "execution_count": 121,
   "metadata": {},
   "outputs": [
    {
     "output_type": "execute_result",
     "data": {
      "text/plain": [
       "                             first_key               version         region  \\\n",
       "0     00713d76908caaf66ef14688fe8229dd  5fa282721f46ca2dfabd           Asia   \n",
       "1     015efcdd8de3698ffc4dad6dabd6664a  142dcad593832d3d624d  Uncategorized   \n",
       "2     015efcdd8de3698ffc4dad6dabd6664a  142dcad593832d3d624d  Uncategorized   \n",
       "3     015efcdd8de3698ffc4dad6dabd6664a  142dcad593832d3d624d  Uncategorized   \n",
       "4     015efcdd8de3698ffc4dad6dabd6664a  142dcad593832d3d624d  Uncategorized   \n",
       "...                                ...                   ...            ...   \n",
       "3267  ffc21af6b9a54606e1dc253cd1787f88  ea8e1c9f36ae360f349e         Africa   \n",
       "3268  ffc21af6b9a54606e1dc253cd1787f88  ea8e1c9f36ae360f349e         Africa   \n",
       "3269  fff9084c3c5bfa0f11cbbc8fa3ebea9e  98f96ea0ae150c2ccb45         Europe   \n",
       "3270  fff9084c3c5bfa0f11cbbc8fa3ebea9e  98f96ea0ae150c2ccb45         Europe   \n",
       "3271  fffca4b86de21decd353aa2f45d7caee  3aca3a7715dc2dc2fe42           Asia   \n",
       "\n",
       "      season       vertical  click-through-event  first_dropped  impression  \\\n",
       "0     Autumn  Uncategorized                  0.0            1.0         1.0   \n",
       "1     Spring  Food & Drinks               1568.0        23607.0     54873.0   \n",
       "2     Spring  Uncategorized                  0.0            6.0        26.0   \n",
       "3     Summer  Food & Drinks                  0.0            0.0         6.0   \n",
       "4     Summer  Uncategorized                  0.0           31.0        85.0   \n",
       "...      ...            ...                  ...            ...         ...   \n",
       "3267  Autumn  Uncategorized               1281.0         9180.0     23032.0   \n",
       "3268  Summer  Uncategorized                 35.0          240.0       559.0   \n",
       "3269  Autumn         Energy               2531.0        13152.0    357207.0   \n",
       "3270  Summer         Energy                  0.0            0.0         3.0   \n",
       "3271  Spring  Uncategorized                  0.0            3.0         3.0   \n",
       "\n",
       "      click_through_rates  \n",
       "0                0.000000  \n",
       "1                0.066421  \n",
       "2                0.000000  \n",
       "3                     NaN  \n",
       "4                0.000000  \n",
       "...                   ...  \n",
       "3267             0.139542  \n",
       "3268             0.145833  \n",
       "3269             0.192442  \n",
       "3270                  NaN  \n",
       "3271             0.000000  \n",
       "\n",
       "[3272 rows x 9 columns]"
      ],
      "text/html": "<div>\n<style scoped>\n    .dataframe tbody tr th:only-of-type {\n        vertical-align: middle;\n    }\n\n    .dataframe tbody tr th {\n        vertical-align: top;\n    }\n\n    .dataframe thead th {\n        text-align: right;\n    }\n</style>\n<table border=\"1\" class=\"dataframe\">\n  <thead>\n    <tr style=\"text-align: right;\">\n      <th></th>\n      <th>first_key</th>\n      <th>version</th>\n      <th>region</th>\n      <th>season</th>\n      <th>vertical</th>\n      <th>click-through-event</th>\n      <th>first_dropped</th>\n      <th>impression</th>\n      <th>click_through_rates</th>\n    </tr>\n  </thead>\n  <tbody>\n    <tr>\n      <th>0</th>\n      <td>00713d76908caaf66ef14688fe8229dd</td>\n      <td>5fa282721f46ca2dfabd</td>\n      <td>Asia</td>\n      <td>Autumn</td>\n      <td>Uncategorized</td>\n      <td>0.0</td>\n      <td>1.0</td>\n      <td>1.0</td>\n      <td>0.000000</td>\n    </tr>\n    <tr>\n      <th>1</th>\n      <td>015efcdd8de3698ffc4dad6dabd6664a</td>\n      <td>142dcad593832d3d624d</td>\n      <td>Uncategorized</td>\n      <td>Spring</td>\n      <td>Food &amp; Drinks</td>\n      <td>1568.0</td>\n      <td>23607.0</td>\n      <td>54873.0</td>\n      <td>0.066421</td>\n    </tr>\n    <tr>\n      <th>2</th>\n      <td>015efcdd8de3698ffc4dad6dabd6664a</td>\n      <td>142dcad593832d3d624d</td>\n      <td>Uncategorized</td>\n      <td>Spring</td>\n      <td>Uncategorized</td>\n      <td>0.0</td>\n      <td>6.0</td>\n      <td>26.0</td>\n      <td>0.000000</td>\n    </tr>\n    <tr>\n      <th>3</th>\n      <td>015efcdd8de3698ffc4dad6dabd6664a</td>\n      <td>142dcad593832d3d624d</td>\n      <td>Uncategorized</td>\n      <td>Summer</td>\n      <td>Food &amp; Drinks</td>\n      <td>0.0</td>\n      <td>0.0</td>\n      <td>6.0</td>\n      <td>NaN</td>\n    </tr>\n    <tr>\n      <th>4</th>\n      <td>015efcdd8de3698ffc4dad6dabd6664a</td>\n      <td>142dcad593832d3d624d</td>\n      <td>Uncategorized</td>\n      <td>Summer</td>\n      <td>Uncategorized</td>\n      <td>0.0</td>\n      <td>31.0</td>\n      <td>85.0</td>\n      <td>0.000000</td>\n    </tr>\n    <tr>\n      <th>...</th>\n      <td>...</td>\n      <td>...</td>\n      <td>...</td>\n      <td>...</td>\n      <td>...</td>\n      <td>...</td>\n      <td>...</td>\n      <td>...</td>\n      <td>...</td>\n    </tr>\n    <tr>\n      <th>3267</th>\n      <td>ffc21af6b9a54606e1dc253cd1787f88</td>\n      <td>ea8e1c9f36ae360f349e</td>\n      <td>Africa</td>\n      <td>Autumn</td>\n      <td>Uncategorized</td>\n      <td>1281.0</td>\n      <td>9180.0</td>\n      <td>23032.0</td>\n      <td>0.139542</td>\n    </tr>\n    <tr>\n      <th>3268</th>\n      <td>ffc21af6b9a54606e1dc253cd1787f88</td>\n      <td>ea8e1c9f36ae360f349e</td>\n      <td>Africa</td>\n      <td>Summer</td>\n      <td>Uncategorized</td>\n      <td>35.0</td>\n      <td>240.0</td>\n      <td>559.0</td>\n      <td>0.145833</td>\n    </tr>\n    <tr>\n      <th>3269</th>\n      <td>fff9084c3c5bfa0f11cbbc8fa3ebea9e</td>\n      <td>98f96ea0ae150c2ccb45</td>\n      <td>Europe</td>\n      <td>Autumn</td>\n      <td>Energy</td>\n      <td>2531.0</td>\n      <td>13152.0</td>\n      <td>357207.0</td>\n      <td>0.192442</td>\n    </tr>\n    <tr>\n      <th>3270</th>\n      <td>fff9084c3c5bfa0f11cbbc8fa3ebea9e</td>\n      <td>98f96ea0ae150c2ccb45</td>\n      <td>Europe</td>\n      <td>Summer</td>\n      <td>Energy</td>\n      <td>0.0</td>\n      <td>0.0</td>\n      <td>3.0</td>\n      <td>NaN</td>\n    </tr>\n    <tr>\n      <th>3271</th>\n      <td>fffca4b86de21decd353aa2f45d7caee</td>\n      <td>3aca3a7715dc2dc2fe42</td>\n      <td>Asia</td>\n      <td>Spring</td>\n      <td>Uncategorized</td>\n      <td>0.0</td>\n      <td>3.0</td>\n      <td>3.0</td>\n      <td>0.000000</td>\n    </tr>\n  </tbody>\n</table>\n<p>3272 rows × 9 columns</p>\n</div>"
     },
     "metadata": {},
     "execution_count": 121
    }
   ],
   "source": [
    "data"
   ]
  },
  {
   "source": [
    "#This was to get only columns their click through rate was not equal to zero, since we are not interested in the zeros\n",
    "data = data.loc[data['click-through-event'] / data['first_dropped'] != 0]"
   ],
   "cell_type": "code",
   "metadata": {},
   "execution_count": 132,
   "outputs": []
  },
  {
   "cell_type": "code",
   "execution_count": 153,
   "metadata": {},
   "outputs": [
    {
     "output_type": "execute_result",
     "data": {
      "text/plain": [
       "                             first_key               version         region  \\\n",
       "1     015efcdd8de3698ffc4dad6dabd6664a  142dcad593832d3d624d  Uncategorized   \n",
       "5     025974ed1a241f2957a0671cc7e23402  fc820fb3208d8ae4c4cb       Americas   \n",
       "6     025974ed1a241f2957a0671cc7e23402  fc820fb3208d8ae4c4cb       Americas   \n",
       "8     02cc1b5d61e0593435316315ad2e6c6f  fe137ec50be57d8c6170  Uncategorized   \n",
       "9     02cc1b5d61e0593435316315ad2e6c6f  fe137ec50be57d8c6170  Uncategorized   \n",
       "...                                ...                   ...            ...   \n",
       "3265  ffaa0f351ee62e98a7d0e8f5fd6f78f1  57adef6d764fcf32199b  Uncategorized   \n",
       "3266  ffaa0f351ee62e98a7d0e8f5fd6f78f1  57adef6d764fcf32199b  Uncategorized   \n",
       "3267  ffc21af6b9a54606e1dc253cd1787f88  ea8e1c9f36ae360f349e         Africa   \n",
       "3268  ffc21af6b9a54606e1dc253cd1787f88  ea8e1c9f36ae360f349e         Africa   \n",
       "3269  fff9084c3c5bfa0f11cbbc8fa3ebea9e  98f96ea0ae150c2ccb45         Europe   \n",
       "\n",
       "      season            vertical  click-through-event  first_dropped  \\\n",
       "1     Spring       Food & Drinks               1568.0        23607.0   \n",
       "5     Autumn       Uncategorized                763.0         5478.0   \n",
       "6     Summer       Uncategorized                 44.0          396.0   \n",
       "8     Spring  Business & Finance                222.0         1430.0   \n",
       "9     Spring       Uncategorized                  1.0            1.0   \n",
       "...      ...                 ...                  ...            ...   \n",
       "3265  Summer            Shopping                329.0        21712.0   \n",
       "3266  Summer       Uncategorized                  2.0            7.0   \n",
       "3267  Autumn       Uncategorized               1281.0         9180.0   \n",
       "3268  Summer       Uncategorized                 35.0          240.0   \n",
       "3269  Autumn              Energy               2531.0        13152.0   \n",
       "\n",
       "      impression  click_through_rates  \n",
       "1        54873.0             0.066421  \n",
       "5        53181.0             0.139284  \n",
       "6         4045.0             0.111111  \n",
       "8         9823.0             0.155245  \n",
       "9           34.0             1.000000  \n",
       "...          ...                  ...  \n",
       "3265    281700.0             0.015153  \n",
       "3266        24.0             0.285714  \n",
       "3267     23032.0             0.139542  \n",
       "3268       559.0             0.145833  \n",
       "3269    357207.0             0.192442  \n",
       "\n",
       "[1610 rows x 9 columns]"
      ],
      "text/html": "<div>\n<style scoped>\n    .dataframe tbody tr th:only-of-type {\n        vertical-align: middle;\n    }\n\n    .dataframe tbody tr th {\n        vertical-align: top;\n    }\n\n    .dataframe thead th {\n        text-align: right;\n    }\n</style>\n<table border=\"1\" class=\"dataframe\">\n  <thead>\n    <tr style=\"text-align: right;\">\n      <th></th>\n      <th>first_key</th>\n      <th>version</th>\n      <th>region</th>\n      <th>season</th>\n      <th>vertical</th>\n      <th>click-through-event</th>\n      <th>first_dropped</th>\n      <th>impression</th>\n      <th>click_through_rates</th>\n    </tr>\n  </thead>\n  <tbody>\n    <tr>\n      <th>1</th>\n      <td>015efcdd8de3698ffc4dad6dabd6664a</td>\n      <td>142dcad593832d3d624d</td>\n      <td>Uncategorized</td>\n      <td>Spring</td>\n      <td>Food &amp; Drinks</td>\n      <td>1568.0</td>\n      <td>23607.0</td>\n      <td>54873.0</td>\n      <td>0.066421</td>\n    </tr>\n    <tr>\n      <th>5</th>\n      <td>025974ed1a241f2957a0671cc7e23402</td>\n      <td>fc820fb3208d8ae4c4cb</td>\n      <td>Americas</td>\n      <td>Autumn</td>\n      <td>Uncategorized</td>\n      <td>763.0</td>\n      <td>5478.0</td>\n      <td>53181.0</td>\n      <td>0.139284</td>\n    </tr>\n    <tr>\n      <th>6</th>\n      <td>025974ed1a241f2957a0671cc7e23402</td>\n      <td>fc820fb3208d8ae4c4cb</td>\n      <td>Americas</td>\n      <td>Summer</td>\n      <td>Uncategorized</td>\n      <td>44.0</td>\n      <td>396.0</td>\n      <td>4045.0</td>\n      <td>0.111111</td>\n    </tr>\n    <tr>\n      <th>8</th>\n      <td>02cc1b5d61e0593435316315ad2e6c6f</td>\n      <td>fe137ec50be57d8c6170</td>\n      <td>Uncategorized</td>\n      <td>Spring</td>\n      <td>Business &amp; Finance</td>\n      <td>222.0</td>\n      <td>1430.0</td>\n      <td>9823.0</td>\n      <td>0.155245</td>\n    </tr>\n    <tr>\n      <th>9</th>\n      <td>02cc1b5d61e0593435316315ad2e6c6f</td>\n      <td>fe137ec50be57d8c6170</td>\n      <td>Uncategorized</td>\n      <td>Spring</td>\n      <td>Uncategorized</td>\n      <td>1.0</td>\n      <td>1.0</td>\n      <td>34.0</td>\n      <td>1.000000</td>\n    </tr>\n    <tr>\n      <th>...</th>\n      <td>...</td>\n      <td>...</td>\n      <td>...</td>\n      <td>...</td>\n      <td>...</td>\n      <td>...</td>\n      <td>...</td>\n      <td>...</td>\n      <td>...</td>\n    </tr>\n    <tr>\n      <th>3265</th>\n      <td>ffaa0f351ee62e98a7d0e8f5fd6f78f1</td>\n      <td>57adef6d764fcf32199b</td>\n      <td>Uncategorized</td>\n      <td>Summer</td>\n      <td>Shopping</td>\n      <td>329.0</td>\n      <td>21712.0</td>\n      <td>281700.0</td>\n      <td>0.015153</td>\n    </tr>\n    <tr>\n      <th>3266</th>\n      <td>ffaa0f351ee62e98a7d0e8f5fd6f78f1</td>\n      <td>57adef6d764fcf32199b</td>\n      <td>Uncategorized</td>\n      <td>Summer</td>\n      <td>Uncategorized</td>\n      <td>2.0</td>\n      <td>7.0</td>\n      <td>24.0</td>\n      <td>0.285714</td>\n    </tr>\n    <tr>\n      <th>3267</th>\n      <td>ffc21af6b9a54606e1dc253cd1787f88</td>\n      <td>ea8e1c9f36ae360f349e</td>\n      <td>Africa</td>\n      <td>Autumn</td>\n      <td>Uncategorized</td>\n      <td>1281.0</td>\n      <td>9180.0</td>\n      <td>23032.0</td>\n      <td>0.139542</td>\n    </tr>\n    <tr>\n      <th>3268</th>\n      <td>ffc21af6b9a54606e1dc253cd1787f88</td>\n      <td>ea8e1c9f36ae360f349e</td>\n      <td>Africa</td>\n      <td>Summer</td>\n      <td>Uncategorized</td>\n      <td>35.0</td>\n      <td>240.0</td>\n      <td>559.0</td>\n      <td>0.145833</td>\n    </tr>\n    <tr>\n      <th>3269</th>\n      <td>fff9084c3c5bfa0f11cbbc8fa3ebea9e</td>\n      <td>98f96ea0ae150c2ccb45</td>\n      <td>Europe</td>\n      <td>Autumn</td>\n      <td>Energy</td>\n      <td>2531.0</td>\n      <td>13152.0</td>\n      <td>357207.0</td>\n      <td>0.192442</td>\n    </tr>\n  </tbody>\n</table>\n<p>1610 rows × 9 columns</p>\n</div>"
     },
     "metadata": {},
     "execution_count": 153
    }
   ],
   "source": [
    "data"
   ]
  },
  {
   "source": [
    "## One-way analysis of Variance"
   ],
   "cell_type": "markdown",
   "metadata": {}
  },
  {
   "cell_type": "code",
   "execution_count": 169,
   "metadata": {},
   "outputs": [],
   "source": [
    "reg = data[['region','click_through_rates']]"
   ]
  },
  {
   "cell_type": "code",
   "execution_count": 170,
   "metadata": {},
   "outputs": [
    {
     "output_type": "execute_result",
     "data": {
      "text/plain": [
       "               click_through_rates\n",
       "region                            \n",
       "Africa                    0.203641\n",
       "Americas                  1.721097\n",
       "Asia                      0.951374\n",
       "Europe                    0.170446\n",
       "Oceania                   0.458556\n",
       "Uncategorized             0.628538"
      ],
      "text/html": "<div>\n<style scoped>\n    .dataframe tbody tr th:only-of-type {\n        vertical-align: middle;\n    }\n\n    .dataframe tbody tr th {\n        vertical-align: top;\n    }\n\n    .dataframe thead th {\n        text-align: right;\n    }\n</style>\n<table border=\"1\" class=\"dataframe\">\n  <thead>\n    <tr style=\"text-align: right;\">\n      <th></th>\n      <th>click_through_rates</th>\n    </tr>\n    <tr>\n      <th>region</th>\n      <th></th>\n    </tr>\n  </thead>\n  <tbody>\n    <tr>\n      <th>Africa</th>\n      <td>0.203641</td>\n    </tr>\n    <tr>\n      <th>Americas</th>\n      <td>1.721097</td>\n    </tr>\n    <tr>\n      <th>Asia</th>\n      <td>0.951374</td>\n    </tr>\n    <tr>\n      <th>Europe</th>\n      <td>0.170446</td>\n    </tr>\n    <tr>\n      <th>Oceania</th>\n      <td>0.458556</td>\n    </tr>\n    <tr>\n      <th>Uncategorized</th>\n      <td>0.628538</td>\n    </tr>\n  </tbody>\n</table>\n</div>"
     },
     "metadata": {},
     "execution_count": 170
    }
   ],
   "source": [
    "reg.groupby('region').mean()"
   ]
  },
  {
   "source": [
    "We want to test if there is difference between the means of all the season, or they did well, this is to confirm if the verticals had anything to do with our click_through_rate or if it had the same average. \n",
    "This is called an analysis of variance test. "
   ],
   "cell_type": "markdown",
   "metadata": {}
  },
  {
   "cell_type": "code",
   "execution_count": 171,
   "metadata": {},
   "outputs": [
    {
     "output_type": "stream",
     "name": "stdout",
     "text": [
      "              df        sum_sq    mean_sq         F    PR(>F)\nseason       4.0     72.036147  18.009037  2.537054  0.038413\nResidual  1605.0  11392.941039   7.098406       NaN       NaN\n"
     ]
    }
   ],
   "source": [
    "lm_click = ols('click_through_rates ~ region',data=reg).fit()\n",
    "table = sm.stats.anova_lm(lm)\n",
    "print(table)\n"
   ]
  },
  {
   "source": [
    "Our result reject the null hypothesis that there is no statistical difference between the means of the different season in our data, to find out more about our data we would print the summary of our earlier analysis"
   ],
   "cell_type": "markdown",
   "metadata": {}
  },
  {
   "cell_type": "code",
   "execution_count": 172,
   "metadata": {},
   "outputs": [
    {
     "output_type": "stream",
     "name": "stdout",
     "text": [
      "                             OLS Regression Results                            \n===============================================================================\nDep. Variable:     click_through_rates   R-squared:                       0.027\nModel:                             OLS   Adj. R-squared:                  0.024\nMethod:                  Least Squares   F-statistic:                     8.947\nDate:                 Sun, 20 Dec 2020   Prob (F-statistic):           2.15e-08\nTime:                         02:40:03   Log-Likelihood:                -3842.6\nNo. Observations:                 1610   AIC:                             7697.\nDf Residuals:                     1604   BIC:                             7730.\nDf Model:                            5                                         \nCovariance Type:             nonrobust                                         \n===========================================================================================\n                              coef    std err          t      P>|t|      [0.025      0.975]\n-------------------------------------------------------------------------------------------\nIntercept                   0.2036      0.398      0.512      0.609      -0.576       0.983\nregion[T.Americas]          1.5175      0.440      3.453      0.001       0.655       2.380\nregion[T.Asia]              0.7477      0.426      1.755      0.079      -0.088       1.583\nregion[T.Europe]           -0.0332      0.430     -0.077      0.938      -0.876       0.810\nregion[T.Oceania]           0.2549      1.574      0.162      0.871      -2.831       3.341\nregion[T.Uncategorized]     0.4249      0.408      1.041      0.298      -0.376       1.226\n==============================================================================\nOmnibus:                     2230.791   Durbin-Watson:                   1.010\nProb(Omnibus):                  0.000   Jarque-Bera (JB):           428201.650\nSkew:                           7.940   Prob(JB):                         0.00\nKurtosis:                      81.300   Cond. No.                         28.3\n==============================================================================\n\nNotes:\n[1] Standard Errors assume that the covariance matrix of the errors is correctly specified.\n"
     ]
    }
   ],
   "source": [
    "print(lm_click.summary())\n"
   ]
  },
  {
   "source": [
    "In this analysis we notice that our R-squared is really bad, this tells us in some way the values for the different categories do not explain the results except in the case of America which for the t-statistic p-value is statistical significant i.e. less tham 0.05, this leads us to another conclusion that America is the only value which was statistical different and also significant. "
   ],
   "cell_type": "markdown",
   "metadata": {}
  },
  {
   "source": [
    "### Season\n"
   ],
   "cell_type": "markdown",
   "metadata": {}
  },
  {
   "source": [
    "seas = data[['season','click_through_rates']]"
   ],
   "cell_type": "code",
   "metadata": {},
   "execution_count": 150,
   "outputs": []
  },
  {
   "cell_type": "code",
   "execution_count": 152,
   "metadata": {},
   "outputs": [
    {
     "output_type": "execute_result",
     "data": {
      "text/plain": [
       "        click_through_rates\n",
       "season                     \n",
       "Autumn             0.494105\n",
       "Hiver              0.286811\n",
       "Spring             0.917072\n",
       "Summer             0.713446\n",
       "Winter             1.018301"
      ],
      "text/html": "<div>\n<style scoped>\n    .dataframe tbody tr th:only-of-type {\n        vertical-align: middle;\n    }\n\n    .dataframe tbody tr th {\n        vertical-align: top;\n    }\n\n    .dataframe thead th {\n        text-align: right;\n    }\n</style>\n<table border=\"1\" class=\"dataframe\">\n  <thead>\n    <tr style=\"text-align: right;\">\n      <th></th>\n      <th>click_through_rates</th>\n    </tr>\n    <tr>\n      <th>season</th>\n      <th></th>\n    </tr>\n  </thead>\n  <tbody>\n    <tr>\n      <th>Autumn</th>\n      <td>0.494105</td>\n    </tr>\n    <tr>\n      <th>Hiver</th>\n      <td>0.286811</td>\n    </tr>\n    <tr>\n      <th>Spring</th>\n      <td>0.917072</td>\n    </tr>\n    <tr>\n      <th>Summer</th>\n      <td>0.713446</td>\n    </tr>\n    <tr>\n      <th>Winter</th>\n      <td>1.018301</td>\n    </tr>\n  </tbody>\n</table>\n</div>"
     },
     "metadata": {},
     "execution_count": 152
    }
   ],
   "source": [
    "seas.groupby('season').mean()"
   ]
  },
  {
   "cell_type": "code",
   "execution_count": 165,
   "metadata": {},
   "outputs": [
    {
     "output_type": "stream",
     "name": "stdout",
     "text": [
      "              df        sum_sq    mean_sq         F    PR(>F)\nseason       4.0     72.036147  18.009037  2.537054  0.038413\nResidual  1605.0  11392.941039   7.098406       NaN       NaN\n"
     ]
    }
   ],
   "source": [
    "lm = ols('click_through_rates ~ season',data=seas).fit()\n",
    "table = sm.stats.anova_lm(lm)\n",
    "print(table)\n"
   ]
  },
  {
   "source": [
    "In this analysis we again confirm if the difference in the means is statistical significant or it is random, after our one-way ANOVA test which p-value is statistical significant that is less than 0.05, we can reject the null hypothesis that there is no difference in the means of the different categories. Twhich means that is each campaign result was different. We try to learn more about this from the summary below. "
   ],
   "cell_type": "markdown",
   "metadata": {}
  },
  {
   "cell_type": "code",
   "execution_count": 166,
   "metadata": {},
   "outputs": [
    {
     "output_type": "stream",
     "name": "stdout",
     "text": [
      "                             OLS Regression Results                            \n===============================================================================\nDep. Variable:     click_through_rates   R-squared:                       0.006\nModel:                             OLS   Adj. R-squared:                  0.004\nMethod:                  Least Squares   F-statistic:                     2.537\nDate:                 Sun, 20 Dec 2020   Prob (F-statistic):             0.0384\nTime:                         02:17:05   Log-Likelihood:                -3859.7\nNo. Observations:                 1610   AIC:                             7729.\nDf Residuals:                     1605   BIC:                             7756.\nDf Model:                            4                                         \nCovariance Type:             nonrobust                                         \n====================================================================================\n                       coef    std err          t      P>|t|      [0.025      0.975]\n------------------------------------------------------------------------------------\nIntercept            0.4941      0.129      3.837      0.000       0.242       0.747\nseason[T.Hiver]     -0.2073      0.357     -0.581      0.562      -0.908       0.493\nseason[T.Spring]     0.4230      0.190      2.230      0.026       0.051       0.795\nseason[T.Summer]     0.2193      0.177      1.237      0.216      -0.128       0.567\nseason[T.Winter]     0.5242      0.206      2.543      0.011       0.120       0.929\n==============================================================================\nOmnibus:                     2255.371   Durbin-Watson:                   1.015\nProb(Omnibus):                  0.000   Jarque-Bera (JB):           446872.484\nSkew:                           8.100   Prob(JB):                         0.00\nKurtosis:                      82.994   Cond. No.                         6.24\n==============================================================================\n\nNotes:\n[1] Standard Errors assume that the covariance matrix of the errors is correctly specified.\n"
     ]
    }
   ],
   "source": [
    "print(lm.summary())"
   ]
  },
  {
   "source": [
    "This shows us again a very uncorrelated data with a R-squared of 0.006, but there are still statistically significant categories as indicated earlier by our test, this is the the Spring and Winter categories which have a p-value less than 0.05, we would reject the null hypothesis as this has proven that some of the categories have predictive power and our result most likely did not happen by chance."
   ],
   "cell_type": "markdown",
   "metadata": {}
  },
  {
   "source": [
    "### 2-Way Anova test "
   ],
   "cell_type": "markdown",
   "metadata": {}
  },
  {
   "cell_type": "code",
   "execution_count": 159,
   "metadata": {},
   "outputs": [],
   "source": [
    "reg_seas = data[['region', 'season','click_through_rates']]"
   ]
  },
  {
   "cell_type": "code",
   "execution_count": null,
   "metadata": {},
   "outputs": [],
   "source": []
  },
  {
   "cell_type": "code",
   "execution_count": 161,
   "metadata": {},
   "outputs": [
    {
     "output_type": "execute_result",
     "data": {
      "text/plain": [
       "          region  season  click_through_rates\n",
       "1  Uncategorized  Spring             0.066421\n",
       "5       Americas  Autumn             0.139284\n",
       "6       Americas  Summer             0.111111\n",
       "8  Uncategorized  Spring             0.155245\n",
       "9  Uncategorized  Spring             1.000000"
      ],
      "text/html": "<div>\n<style scoped>\n    .dataframe tbody tr th:only-of-type {\n        vertical-align: middle;\n    }\n\n    .dataframe tbody tr th {\n        vertical-align: top;\n    }\n\n    .dataframe thead th {\n        text-align: right;\n    }\n</style>\n<table border=\"1\" class=\"dataframe\">\n  <thead>\n    <tr style=\"text-align: right;\">\n      <th></th>\n      <th>region</th>\n      <th>season</th>\n      <th>click_through_rates</th>\n    </tr>\n  </thead>\n  <tbody>\n    <tr>\n      <th>1</th>\n      <td>Uncategorized</td>\n      <td>Spring</td>\n      <td>0.066421</td>\n    </tr>\n    <tr>\n      <th>5</th>\n      <td>Americas</td>\n      <td>Autumn</td>\n      <td>0.139284</td>\n    </tr>\n    <tr>\n      <th>6</th>\n      <td>Americas</td>\n      <td>Summer</td>\n      <td>0.111111</td>\n    </tr>\n    <tr>\n      <th>8</th>\n      <td>Uncategorized</td>\n      <td>Spring</td>\n      <td>0.155245</td>\n    </tr>\n    <tr>\n      <th>9</th>\n      <td>Uncategorized</td>\n      <td>Spring</td>\n      <td>1.000000</td>\n    </tr>\n  </tbody>\n</table>\n</div>"
     },
     "metadata": {},
     "execution_count": 161
    }
   ],
   "source": [
    "reg_seas.head()"
   ]
  },
  {
   "cell_type": "code",
   "execution_count": 176,
   "metadata": {},
   "outputs": [
    {
     "output_type": "stream",
     "name": "stdout",
     "text": [
      "                         df        sum_sq    mean_sq         F        PR(>F)\nC(region)               5.0    311.077153  62.215431  9.413720  7.436798e-09\nC(season)               4.0     99.500253  24.875063  3.763807  4.714630e-03\nC(region):C(season)    20.0    837.155831  41.857792  6.333437  9.621020e-17\nResidual             1583.0  10462.073307   6.609017       NaN           NaN\n"
     ]
    }
   ],
   "source": [
    "# Type I ANOVA tells us that region is more important than the seson in making forecast, \n",
    "#  The interaction effect is also significant for region .\n",
    "lm = ols('click_through_rates ~ C(region)*C(season)',data=reg_seas).fit()\n",
    "\n",
    "print(sm.stats.anova_lm(lm, typ=1)) # Type 1 ANOVA DataFrame"
   ]
  },
  {
   "cell_type": "code",
   "execution_count": 178,
   "metadata": {},
   "outputs": [
    {
     "output_type": "stream",
     "name": "stdout",
     "text": [
      "                           sum_sq      df          F        PR(>F)\n",
      "C(region)              357.079523     5.0  10.805829  4.985226e-07\n",
      "C(season)               31.556096     4.0   1.193676  3.033777e-01\n",
      "C(region):C(season)    696.854674    20.0   5.272000  1.670759e-11\n",
      "Residual             10462.073307  1583.0        NaN           NaN\n",
      "/home/dmarinere/.local/lib/python3.8/site-packages/statsmodels/base/model.py:1832: ValueWarning: covariance of constraints does not have full rank. The number of constraints is 5, but rank is 3\n",
      "  warnings.warn('covariance of constraints does not have full '\n",
      "/home/dmarinere/.local/lib/python3.8/site-packages/statsmodels/base/model.py:1832: ValueWarning: covariance of constraints does not have full rank. The number of constraints is 4, but rank is 2\n",
      "  warnings.warn('covariance of constraints does not have full '\n",
      "/home/dmarinere/.local/lib/python3.8/site-packages/statsmodels/base/model.py:1832: ValueWarning: covariance of constraints does not have full rank. The number of constraints is 20, but rank is 17\n",
      "  warnings.warn('covariance of constraints does not have full '\n"
     ]
    }
   ],
   "source": [
    "#type two analysis of variance \n",
    "print(sm.stats.anova_lm(lm, typ=2))"
   ]
  },
  {
   "source": [],
   "cell_type": "markdown",
   "metadata": {}
  },
  {
   "cell_type": "code",
   "execution_count": 179,
   "metadata": {},
   "outputs": [
    {
     "output_type": "stream",
     "name": "stdout",
     "text": [
      "                           sum_sq      df         F        PR(>F)\n",
      "Intercept                0.802761     1.0  0.121464  7.274979e-01\n",
      "C(region)               73.002868     5.0  2.209190  5.102406e-02\n",
      "C(season)                0.329239     4.0  0.012454  9.996945e-01\n",
      "C(region):C(season)    696.854674    20.0  5.272000  1.670759e-11\n",
      "Residual             10462.073307  1583.0       NaN           NaN\n",
      "/home/dmarinere/.local/lib/python3.8/site-packages/statsmodels/base/model.py:1832: ValueWarning: covariance of constraints does not have full rank. The number of constraints is 20, but rank is 17\n",
      "  warnings.warn('covariance of constraints does not have full '\n"
     ]
    }
   ],
   "source": [
    "print(sm.stats.anova_lm(lm, typ=3))"
   ]
  },
  {
   "cell_type": "code",
   "execution_count": null,
   "metadata": {},
   "outputs": [],
   "source": []
  }
 ]
}